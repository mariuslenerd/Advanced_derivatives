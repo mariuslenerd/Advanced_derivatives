{
 "cells": [
  {
   "cell_type": "code",
   "execution_count": 85,
   "id": "5dca55eb",
   "metadata": {},
   "outputs": [],
   "source": [
    "import numpy as np \n",
    "import matplotlib.pyplot as plt\n",
    "from scipy.stats import norm, multivariate_normal\n",
    "import math\n",
    "import itertools\n",
    "import scipy.optimize"
   ]
  },
  {
   "cell_type": "code",
   "execution_count": 75,
   "id": "084c31ca",
   "metadata": {},
   "outputs": [],
   "source": [
    "S= 100\n",
    "T = [0.02,0.08,0.25,0.5]\n",
    "K= [0.8,0.9,0.25,0.5]*S\n",
    "gamma = -0.08\n",
    "lambda_ = 0.2\n",
    "sigma = 0.2\n",
    "r = 0.04\n",
    "q = 0\n"
   ]
  },
  {
   "cell_type": "code",
   "execution_count": 113,
   "id": "c73ebd02",
   "metadata": {},
   "outputs": [],
   "source": [
    "def BS_call(S,k, T, sigma, r , q) : \n",
    "\n",
    "    d1 = (np.log(S/k) + (r-q+(1/2)*sigma**2)*(T))/(sigma*np.sqrt(T))\n",
    "    d2 = d1-sigma*np.sqrt(T)\n",
    "    \n",
    "    return (S*np.exp(-q*T)*norm.cdf(d1) -k*np.exp(-r*(T))*norm.cdf(d2) )\n",
    "\n",
    "def weight(lambda_, T, j) : \n",
    "    weight = np.exp(-lambda_*T) * (lambda_*T)**(j-1)/math.factorial(j-1)\n",
    "    return weight\n",
    "\n",
    "def implied_vol(price,S,k,T,r,q) : \n",
    "    guess = 0.5\n",
    "    f = lambda sigma : (BS_call(S,k,T,sigma,r,q) - price)**2 #function to minimize w.r.t sigma\n",
    "    iv = scipy.optimize.fmin(f,guess, disp = False)[0]\n",
    "    return iv"
   ]
  },
  {
   "cell_type": "code",
   "execution_count": 114,
   "id": "fcc67e33",
   "metadata": {},
   "outputs": [
    {
     "name": "stdout",
     "output_type": "stream",
     "text": [
      "{(0.02, 0.8): 91.20063974406774, (0.02, 0.9): 91.10071971207628, (0.02, 0.25): 91.75019992002083, (0.02, 0.5): 91.50039984004215, (0.08, 0.8): 91.20255590784906, (0.08, 0.9): 91.10287539639563, (0.08, 0.25): 91.75079872084301, (0.08, 0.5): 91.50159744220942, (0.25, 0.8): 91.20795998300947, (0.25, 0.9): 91.10895499988185, (0.25, 0.25): 91.75248739021134, (0.25, 0.5): 91.5049749323923, (0.5, 0.8): 91.21583644104471, (0.5, 0.9): 91.11781658123002, (0.5, 0.25): 91.75494567002562, (0.5, 0.5): 91.50989602048885}\n"
     ]
    }
   ],
   "source": [
    "call_prices = {}\n",
    "n = 5\n",
    "for t,k in itertools.product(T,K) : \n",
    "    price = 0\n",
    "    for j in range(1,n+1) : \n",
    "        call_price = BS_call(S*(1+gamma)**j,k,t,sigma,r,q+lambda_*gamma)\n",
    "        bs_w_jump = call_price*weight(lambda_,t,j)\n",
    "        price+= bs_w_jump\n",
    "    call_prices[(t,k)] = float(price)\n",
    "    \n",
    "\n",
    "print(call_prices)"
   ]
  },
  {
   "cell_type": "code",
   "execution_count": 115,
   "id": "8eab097a",
   "metadata": {},
   "outputs": [
    {
     "data": {
      "text/plain": [
       "{(0.02, 0.8): 0.5,\n",
       " (0.02, 0.9): 0.5,\n",
       " (0.02, 0.25): 0.5,\n",
       " (0.02, 0.5): 0.5,\n",
       " (0.08, 0.8): 0.5,\n",
       " (0.08, 0.9): 0.5,\n",
       " (0.08, 0.25): 0.5,\n",
       " (0.08, 0.5): 0.5,\n",
       " (0.25, 0.8): 0.5,\n",
       " (0.25, 0.9): 0.5,\n",
       " (0.25, 0.25): 0.5,\n",
       " (0.25, 0.5): 0.5,\n",
       " (0.5, 0.8): 0.5,\n",
       " (0.5, 0.9): 0.5,\n",
       " (0.5, 0.25): 0.5,\n",
       " (0.5, 0.5): 0.5}"
      ]
     },
     "metadata": {},
     "output_type": "display_data"
    }
   ],
   "source": [
    "implied_volatility = {}\n",
    "\n",
    "for t,k in itertools.product(T,K) : \n",
    "    iv = implied_vol(call_prices[t,k],S,k,t,r,q+lambda_*gamma)\n",
    "    \n",
    "    implied_volatility[(t,k)] = float(iv)\n",
    "\n",
    "display(implied_volatility)"
   ]
  },
  {
   "cell_type": "code",
   "execution_count": null,
   "id": "0c3c2137",
   "metadata": {},
   "outputs": [],
   "source": []
  }
 ],
 "metadata": {
  "kernelspec": {
   "display_name": "empiricalmethods",
   "language": "python",
   "name": "python3"
  },
  "language_info": {
   "codemirror_mode": {
    "name": "ipython",
    "version": 3
   },
   "file_extension": ".py",
   "mimetype": "text/x-python",
   "name": "python",
   "nbconvert_exporter": "python",
   "pygments_lexer": "ipython3",
   "version": "3.13.2"
  }
 },
 "nbformat": 4,
 "nbformat_minor": 5
}
